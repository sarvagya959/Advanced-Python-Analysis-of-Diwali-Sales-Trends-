{
 "cells": [
  {
   "cell_type": "code",
   "execution_count": 1,
   "id": "d7e07ebd-56d8-4565-ac74-f14af90c9066",
   "metadata": {},
   "outputs": [],
   "source": [
    "import numpy as np\n"
   ]
  },
  {
   "cell_type": "code",
   "execution_count": 2,
   "id": "fe7b1762-5a95-42fc-881e-03a8fa397c76",
   "metadata": {},
   "outputs": [],
   "source": [
    "import pandas as pd"
   ]
  },
  {
   "cell_type": "code",
   "execution_count": 5,
   "id": "4498fb20-f976-4496-a5b1-64f305220ad9",
   "metadata": {},
   "outputs": [],
   "source": [
    "import matplotlib.pyplot as plt\n"
   ]
  },
  {
   "cell_type": "code",
   "execution_count": 6,
   "id": "3423c38c-d09a-4b59-bb86-b2011117ebec",
   "metadata": {},
   "outputs": [],
   "source": [
    "import seaborn as sns"
   ]
  },
  {
   "cell_type": "code",
   "execution_count": 8,
   "id": "4e6fbbad-a312-4fff-943c-e63fdd52e760",
   "metadata": {},
   "outputs": [],
   "source": [
    "df = pd.read_csv('Diwali Sales Data.csv', encoding = 'unicode_escape')"
   ]
  },
  {
   "cell_type": "raw",
   "id": "9f5dfcfa-abb3-47ee-a865-dccc946bd56e",
   "metadata": {},
   "source": [
    "print(df)"
   ]
  },
  {
   "cell_type": "markdown",
   "id": "cdb319ef-744b-4e6b-b396-d9e3b2cd4761",
   "metadata": {},
   "source": [
    "## <mark>good 2</mark>"
   ]
  },
  {
   "cell_type": "code",
   "execution_count": null,
   "id": "b94c6c30-94dc-4a0f-8973-e57820421a25",
   "metadata": {},
   "outputs": [],
   "source": []
  }
 ],
 "metadata": {
  "kernelspec": {
   "display_name": "Python 3 (ipykernel)",
   "language": "python",
   "name": "python3"
  },
  "language_info": {
   "codemirror_mode": {
    "name": "ipython",
    "version": 3
   },
   "file_extension": ".py",
   "mimetype": "text/x-python",
   "name": "python",
   "nbconvert_exporter": "python",
   "pygments_lexer": "ipython3",
   "version": "3.12.4"
  }
 },
 "nbformat": 4,
 "nbformat_minor": 5
}
